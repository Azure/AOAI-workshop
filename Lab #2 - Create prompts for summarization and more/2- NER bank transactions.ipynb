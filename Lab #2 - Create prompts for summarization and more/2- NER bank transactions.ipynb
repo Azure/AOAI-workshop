{
 "cells": [
  {
   "cell_type": "code",
   "execution_count": 1,
   "metadata": {},
   "outputs": [],
   "source": [
    "import openai\n",
    "from dotenv import load_dotenv\n",
    "from IPython.display import display, HTML\n",
    "import os\n",
    "\n",
    "load_dotenv()\n",
    "OPENAI_API_KEY = os.getenv(\"OPENAI_API_KEY\")\n",
    "OPENAI_DEPLOYMENT_ENDPOINT = os.getenv(\"OPENAI_DEPLOYMENT_ENDPOINT\")\n",
    "OPENAI_GPT35_DEPLOYMENT_NAME = os.getenv(\"OPENAI_GPT35_DEPLOYMENT_NAME\")"
   ]
  },
  {
   "cell_type": "code",
   "execution_count": 2,
   "metadata": {},
   "outputs": [],
   "source": [
    "client = openai.AzureOpenAI(\n",
    "        azure_endpoint=OPENAI_DEPLOYMENT_ENDPOINT,\n",
    "        api_key=OPENAI_API_KEY,\n",
    "        api_version=\"2023-09-01-preview\"\n",
    "    )"
   ]
  },
  {
   "cell_type": "code",
   "execution_count": 3,
   "metadata": {},
   "outputs": [],
   "source": [
    "\n",
    "def call_openAI(text):\n",
    "\n",
    "    system_message = \"\"\"\n",
    "You are an AI assistant that helps people find information. \n",
    "1. Evaluate the given Bank Transaction description and extract ONLY location, category and merchant information as follows:\n",
    "    LOCATION: cities, countries, continents\n",
    "    CATEGORY: Transaction category. Can be one of the following: TRANSPORTATION, GROCERIES, LEISURE, HEALTH, UTILITIES, BANK TRANSACTION\n",
    "    MERCHANT: Can be a merchant, company or organization\n",
    "2. Do not provide any additional examples to the output.\n",
    "3. Provide the output in a JSON format as follows only for the input Bank Transaction description:\n",
    "    Input Bank transaction description: <the given description>\n",
    "    Output:\n",
    "        {\n",
    "        \"LOCATION\": [\"\"],\n",
    "        \"CATEGORY\": [],\n",
    "        \"MERCHANT\": [\"\"]\n",
    "        }\n",
    "    \"\"\"\n",
    "\n",
    "    response = client.chat.completions.create(\n",
    "        model=OPENAI_GPT35_DEPLOYMENT_NAME,\n",
    "        messages = [\n",
    "            {\"role\":\"system\",\"content\":system_message},\n",
    "            {\"role\":\"user\",\"content\":text}\n",
    "            ],\n",
    "        temperature=0.7,\n",
    "        max_tokens=800,\n",
    "        top_p=0.95,\n",
    "        frequency_penalty=0,\n",
    "        presence_penalty=0,\n",
    "        stop=None\n",
    "    )\n",
    "\n",
    "    return response.choices[0].message.content\n"
   ]
  },
  {
   "cell_type": "code",
   "execution_count": 4,
   "metadata": {},
   "outputs": [
    {
     "data": {
      "text/html": [
       "Input Bank transaction description: May 15th, 2023 – British Telecom - $1,500\n",
       "\n",
       "Output:\n",
       "{\n",
       "  \"LOCATION\": [],\n",
       "  \"CATEGORY\": [],\n",
       "  \"MERCHANT\": [\"British Telecom\"]\n",
       "}"
      ],
      "text/plain": [
       "<IPython.core.display.HTML object>"
      ]
     },
     "metadata": {},
     "output_type": "display_data"
    }
   ],
   "source": [
    "answer = call_openAI(\"May 15th, 2023 – British Telecom - $1,500\")\n",
    "display(HTML(answer))"
   ]
  },
  {
   "cell_type": "code",
   "execution_count": 5,
   "metadata": {},
   "outputs": [
    {
     "data": {
      "text/html": [
       "Input Bank transaction description: May 10, 2023 – Uber BV Toll Free Amsterdam NLD - $10\n",
       "\n",
       "Output:\n",
       "{\n",
       "  \"LOCATION\": [\"Amsterdam\", \"NLD\"],\n",
       "  \"CATEGORY\": [\"TRANSPORTATION\"],\n",
       "  \"MERCHANT\": [\"Uber BV\"]\n",
       "}"
      ],
      "text/plain": [
       "<IPython.core.display.HTML object>"
      ]
     },
     "metadata": {},
     "output_type": "display_data"
    }
   ],
   "source": [
    "answer = call_openAI(\"May 10, 2023 – Uber BV Toll Free Amsterdam NLD - $10\")\n",
    "display(HTML(answer))"
   ]
  },
  {
   "cell_type": "code",
   "execution_count": 6,
   "metadata": {},
   "outputs": [
    {
     "data": {
      "text/html": [
       "Input Bank transaction description: May 10, 2023 – THE AMERICAN HEART ASSOCIATION DALLAS TX - $83.2\n",
       "Output:\n",
       "{\n",
       "  \"LOCATION\": [\"DALLAS\", \"TX\"],\n",
       "  \"CATEGORY\": [\"HEALTH\"],\n",
       "  \"MERCHANT\": [\"THE AMERICAN HEART ASSOCIATION\"]\n",
       "}"
      ],
      "text/plain": [
       "<IPython.core.display.HTML object>"
      ]
     },
     "metadata": {},
     "output_type": "display_data"
    }
   ],
   "source": [
    "answer = call_openAI(\"May 10, 2023 – THE AMERICAN HEART ASSOCIATION DALLAS TX - $83.2\")\n",
    "display(HTML(answer))"
   ]
  },
  {
   "cell_type": "code",
   "execution_count": 7,
   "metadata": {},
   "outputs": [
    {
     "data": {
      "text/html": [
       "Input Bank transaction description: 10 Mayo, 2023 – Impuestos IVA - $83.2\n",
       "Output:\n",
       "{\n",
       "  \"LOCATION\": [],\n",
       "  \"CATEGORY\": [],\n",
       "  \"MERCHANT\": [\"Impuestos IVA\"]\n",
       "}"
      ],
      "text/plain": [
       "<IPython.core.display.HTML object>"
      ]
     },
     "metadata": {},
     "output_type": "display_data"
    }
   ],
   "source": [
    "answer = call_openAI(\"10 Mayo, 2023 – Impuestos IVA - $83.2\")\n",
    "display(HTML(answer))"
   ]
  },
  {
   "cell_type": "code",
   "execution_count": 8,
   "metadata": {},
   "outputs": [
    {
     "data": {
      "text/html": [
       "Input Bank transaction description: 10 Mayo, 2023 – Transferencia Banco Santander Madrid - $83.2\n",
       "\n",
       "Output:\n",
       "{\n",
       "  \"LOCATION\": [\"Madrid\"],\n",
       "  \"CATEGORY\": [],\n",
       "  \"MERCHANT\": [\"Banco Santander\"]\n",
       "}"
      ],
      "text/plain": [
       "<IPython.core.display.HTML object>"
      ]
     },
     "metadata": {},
     "output_type": "display_data"
    }
   ],
   "source": [
    "answer = call_openAI(\"10 Mayo, 2023 – Transferencia Banco Santander Madrid - $83.2\")\n",
    "display(HTML(answer))"
   ]
  }
 ],
 "metadata": {
  "kernelspec": {
   "display_name": ".venv",
   "language": "python",
   "name": "python3"
  },
  "language_info": {
   "codemirror_mode": {
    "name": "ipython",
    "version": 3
   },
   "file_extension": ".py",
   "mimetype": "text/x-python",
   "name": "python",
   "nbconvert_exporter": "python",
   "pygments_lexer": "ipython3",
   "version": "3.10.11"
  },
  "orig_nbformat": 4
 },
 "nbformat": 4,
 "nbformat_minor": 2
}
